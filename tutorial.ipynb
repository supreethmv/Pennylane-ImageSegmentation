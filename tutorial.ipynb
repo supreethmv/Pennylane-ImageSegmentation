{
 "cells": [
  {
   "cell_type": "markdown",
   "metadata": {},
   "source": [
    "# Qubit-Efficient Encoding Techniques for Solving QUBO Problems"
   ]
  },
  {
   "cell_type": "markdown",
   "metadata": {},
   "source": [
    "## 🧠 Introduction\n",
    "\n",
    "Classical algorithms are already incredibly effective at solving many optimization problems — especially when the number of variables is in the low thousands. However, when scaling up to problems involving **tens or hundreds of thousands** of binary variables, classical solvers begin to falter due to the **combinatorial explosion** in the search space.\n",
    "\n",
    "Quantum computing offers a compelling alternative — not by brute force, but by **exploring exponentially large solution spaces in parallel** using quantum superposition and entanglement. One popular quantum algorithm for such problems is the **Quantum Approximate Optimization Algorithm (QAOA)** <sup>[3]</sup>, a textbook example of a variational quantum algorithm (VQA). However, QAOA requires **one qubit per binary variable**, which becomes **prohibitively resource-intensive** for large-scale problems.\n",
    "\n",
    "For instance, solving a QUBO (Quadratic Unconstrained Binary Optimization) problem with 10,000 variables using QAOA would require 10,000 logical qubits — a scale **far beyond current quantum hardware capabilities**."
   ]
  },
  {
   "cell_type": "markdown",
   "metadata": {},
   "source": [
    "## 🔍 Why qubit-efficient methods?\n",
    "\n",
    "This demo explores **qubit-efficient alternatives** to QAOA that are not only suitable for today's NISQ (Noisy Intermediate-Scale Quantum) devices, but also **generalizable across combinatorial optimization problems**.\n",
    "\n",
    "We specifically demonstrate these methods in the context of **unsupervised image segmentation**, by:\n",
    "\n",
    "1. Formulating segmentation as a **min-cut problem** over a graph derived from the image.\n",
    "2. Reformulating the min-cut as a **QUBO problem**.\n",
    "3. Solving the QUBO using **qubit-efficient VQAs**, namely <sup>[1]</sup>:\n",
    "   - **Parametric Gate Encoding (PGE)**\n",
    "   - **Ancilla Basis Encoding (ABE)**\n",
    "   - **Adaptive Cost Encoding (ACE)**\n",
    "\n",
    "These methods only require a **logarithmic number of qubits** with respect to the problem size (i.e., number of binary variables). This makes them **scalable and implementable** even on near-term quantum hardware. Moreover, the exact graph-based image segmentation technique have been explored also using quantum annealers <sup>[2]</sup>.\n",
    "\n",
    "While this demo walks through an image segmentation example, the encoding schemes presented here can be applied to **any binary combinatorial optimization problem**.\n",
    "\n",
    "\n",
    "<figure>\n",
    "  <img src=\"_repo_data/vqa-segmentation.png\" alt=\"VQA Segmentation Overview\" width=\"600\">\n",
    "  <figcaption>\n",
    "    Architecture for segmenting an image by transforming it into a graph and solving the corresponding minimum cut as a QUBO problem using variational quantum circuits <sup>[1]</sup>.</a>\n",
    "  </figcaption>\n",
    "</figure>\n",
    "\n",
    "---"
   ]
  },
  {
   "cell_type": "markdown",
   "metadata": {},
   "source": [
    "## 🧱 Import dependencies\n",
    "\n",
    "We begin by importing the standard Python libraries for graph construction and visualization, and PennyLane modules for quantum circuit construction and simulation. This setup ensures a seamless interface for hybrid quantum-classical processing.\n"
   ]
  },
  {
   "cell_type": "code",
   "execution_count": 2,
   "metadata": {},
   "outputs": [],
   "source": [
    "import numpy as np\n",
    "import networkx as nx\n",
    "import pennylane as qml\n",
    "from scipy.optimize import minimize, differential_evolution\n",
    "import matplotlib.pyplot as plt\n",
    "\n",
    "from math import ceil, log2\n",
    "import time"
   ]
  },
  {
   "cell_type": "markdown",
   "metadata": {},
   "source": [
    "## 🖼️ Generate an example image\n",
    "\n",
    "To keep things intuitive, we generate a toy grayscale image. This synthetic image will be segmented using quantum algorithms.\n",
    "\n",
    "We use a simple 4×4 grid for clarity. The pixel intensities will act as a proxy for similarity when we later construct a graph. Each pixel becomes a vertex, and edges represent similarity (e.g., inverse of intensity difference).\n"
   ]
  },
  {
   "cell_type": "code",
   "execution_count": 3,
   "metadata": {},
   "outputs": [
    {
     "data": {
      "image/png": "[encoded data removed]",
      "text/plain": [
       "<Figure size 640x480 with 1 Axes>"
      ]
     },
     "metadata": {},
     "output_type": "display_data"
    }
   ],
   "source": [
    "height,width = 4,4\n",
    "image = np.array([\n",
    "       [0.97,  0.92, 0.05, 0.92],\n",
    "       [0.93,  0.10, 0.12, 0.93],\n",
    "       [0.94,  0.15, 0.88, 0.94],\n",
    "       [0.98,  0.15, 0.10, 0.92]\n",
    "       ])\n",
    "\n",
    "\n",
    "plt.imshow(image, interpolation='nearest', cmap=plt.cm.gray, vmin=0, vmax=1)\n",
    "# plt.axis('off')\n",
    "plt.xticks([])\n",
    "plt.yticks([])\n",
    "plt.show()"
   ]
  },
  {
   "cell_type": "markdown",
   "metadata": {},
   "source": [
    "## 🔗 Represent an image as a graph\n",
    "\n",
    "Each image is modeled as an undirected weighted grid graph:  \n",
    "- Each pixel becomes a node.\n",
    "- An edge exists between neighboring pixels.\n",
    "- The weight reflects similarity (e.g., inverse absolute difference in grayscale values).\n",
    "\n",
    "This transforms the segmentation task into a **minimum cut problem**, where the goal is to partition the graph to minimize the sum of cut edge weights.\n"
   ]
  },
  {
   "cell_type": "code",
   "execution_count": null,
   "metadata": {},
   "outputs": [
    {
     "data": {
      "text/plain": [
       "(array([[0.97],\n",
       "        [0.92],\n",
       "        [0.05],\n",
       "        [0.92],\n",
       "        [0.93],\n",
       "        [0.1 ],\n",
       "        [0.12],\n",
       "        [0.93],\n",
       "        [0.94],\n",
       "        [0.15],\n",
       "        [0.88],\n",
       "        [0.94],\n",
       "        [0.98],\n",
       "        [0.15],\n",
       "        [0.1 ],\n",
       "        [0.92]]),\n",
       " [((0, 1), (0, 0), np.float64(1.0)),\n",
       "  ((0, 2), (0, 1), np.float64(-1.0)),\n",
       "  ((0, 3), (0, 2), np.float64(-1.0)),\n",
       "  ((1, 0), (0, 0), np.float64(1.0)),\n",
       "  ((1, 1), (0, 1), np.float64(-0.9)),\n",
       "  ((1, 1), (1, 0), np.float64(-0.92)),\n",
       "  ((1, 2), (0, 2), np.float64(0.97)),\n",
       "  ((1, 2), (1, 1), np.float64(1.0)),\n",
       "  ((1, 3), (0, 3), np.float64(1.0)),\n",
       "  ((1, 3), (1, 2), np.float64(-0.87)),\n",
       "  ((2, 0), (1, 0), np.float64(1.0)),\n",
       "  ((2, 1), (1, 1), np.float64(1.0)),\n",
       "  ((2, 1), (2, 0), np.float64(-0.82)),\n",
       "  ((2, 2), (1, 2), np.float64(-0.77)),\n",
       "  ((2, 2), (2, 1), np.float64(-0.69)),\n",
       "  ((2, 3), (1, 3), np.float64(1.0)),\n",
       "  ((2, 3), (2, 2), np.float64(0.97)),\n",
       "  ((3, 0), (2, 0), np.float64(1.0)),\n",
       "  ((3, 1), (2, 1), np.float64(1.0)),\n",
       "  ((3, 1), (3, 0), np.float64(-0.92)),\n",
       "  ((3, 2), (2, 2), np.float64(-0.8)),\n",
       "  ((3, 2), (3, 1), np.float64(1.0)),\n",
       "  ((3, 3), (2, 3), np.float64(1.0)),\n",
       "  ((3, 3), (3, 2), np.float64(-0.9))])"
      ]
     },
     "execution_count": 4,
     "metadata": {},
     "output_type": "execute_result"
    }
   ],
   "source": [
    "def image_to_grid_graph(gray_img, sigma=0.5):\n",
    "  # Convert image to grayscale\n",
    "  # gray_img = np.dot(img, [0.2989, 0.5870, 0.1140])\n",
    "  h, w = gray_img.shape\n",
    "  # Initialize graph nodes and edges\n",
    "  nodes = np.zeros((h*w, 1))\n",
    "  edges = []\n",
    "  nx_elist = []\n",
    "  # Compute node potentials and edge weights\n",
    "  min_weight = 1\n",
    "  max_weight = 0\n",
    "  for i in range(h*w):\n",
    "    x, y = i//w, i%w\n",
    "    nodes[i] = gray_img[x,y]\n",
    "    if x > 0:\n",
    "      j = (x-1)*w + y\n",
    "      # weight = np.exp(-dist.euclidean([gray_img[x,y]], [gray_img[x-1,y]])**2 / (2*sigma**2))\n",
    "      weight = 1-np.exp(-((gray_img[x,y] - gray_img[x-1,y])**2) / (2 * sigma**2))\n",
    "      edges.append((i, j, weight))\n",
    "      nx_elist.append(((x,y),(x-1,y),np.round(weight,2)))\n",
    "      if min_weight>weight:min_weight=weight\n",
    "      if max_weight<weight:max_weight=weight\n",
    "    if y > 0:\n",
    "      j = x*w + y-1\n",
    "      # weight = np.exp(-dist.euclidean([gray_img[x,y]], [gray_img[x,y-1]])**2 / (2*sigma**2))\n",
    "      weight = 1-np.exp(-((gray_img[x,y] - gray_img[x,y-1])**2) / (2 * sigma**2))\n",
    "      # print('weight',weight)\n",
    "      edges.append((i, j, weight))\n",
    "      nx_elist.append(((x,y),(x,y-1),np.round(weight,2)))\n",
    "      if min_weight>weight:min_weight=weight\n",
    "      if max_weight<weight:max_weight=weight\n",
    "  a=-1\n",
    "  b=1\n",
    "  if max_weight-min_weight:\n",
    "    normalized_edges = [(node1,node2,-1*np.round(((b-a)*((edge_weight-min_weight)/(max_weight-min_weight)))+a,2)) for node1,node2,edge_weight in edges]\n",
    "    normalized_nx_elist = [(node1,node2,-1*np.round(((b-a)*((edge_weight-min_weight)/(max_weight-min_weight)))+a,2)) for node1,node2,edge_weight in nx_elist]\n",
    "  else:\n",
    "    normalized_edges = [(node1,node2,-1*np.round(edge_weight,2)) for node1,node2,edge_weight in edges]\n",
    "    normalized_nx_elist = [(node1,node2,-1*np.round(edge_weight,2)) for node1,node2,edge_weight in nx_elist]\n",
    "  return nodes, edges, nx_elist, normalized_edges, normalized_nx_elist\n",
    "\n",
    "pixel_values, elist, nx_elist, normalized_elist, normalized_nx_elist = image_to_grid_graph(image)\n",
    "\n",
    "\n",
    "\n",
    "pixel_values, normalized_nx_elist"
   ]
  },
  {
   "cell_type": "code",
   "execution_count": 5,
   "metadata": {},
   "outputs": [],
   "source": [
    "G = nx.grid_2d_graph(image.shape[0], image.shape[1])\n",
    "G.add_weighted_edges_from(normalized_nx_elist)"
   ]
  },
  {
   "cell_type": "code",
   "execution_count": null,
   "metadata": {},
   "outputs": [
    {
     "data": {
      "image/png": "[encoded data removed]",
      "text/plain": [
       "<Figure size 600x600 with 1 Axes>"
      ]
     },
     "metadata": {},
     "output_type": "display_data"
    }
   ],
   "source": [
    "def draw(G):\n",
    "  plt.figure(figsize=(6,6))\n",
    "  default_axes = plt.axes(frameon=True)\n",
    "  pos = {(x,y):(y,-x) for x,y in G.nodes()}\n",
    "  nx.draw_networkx(G, pos)\n",
    "  nodes = nx.draw_networkx_nodes(G, pos, node_color=1-pixel_values,\n",
    "                  node_size=3000,\n",
    "                  cmap=plt.cm.Greys, vmin=0, vmax=1)\n",
    "  nodes.set_edgecolor('k')\n",
    "  edge_labels = nx.get_edge_attributes(G, \"weight\")\n",
    "  nx.draw_networkx_edge_labels(G,\n",
    "                              pos=pos,\n",
    "                              edge_labels=edge_labels,\n",
    "                              font_size=10,\n",
    "                              font_color='tab:blue')\n",
    "  plt.axis('off')\n",
    "draw(G)\n",
    "plt.show()"
   ]
  },
  {
   "cell_type": "markdown",
   "metadata": {},
   "source": [
    "## 🔁 Parametric Gate Encoding (PGE)\n",
    "\n",
    "In PGE, we directly encode the binary segmentation mask in the rotation parameters of a diagonal gate <sup>[4]</sup>.\n",
    "\n",
    "Only $\\log_2(n)$ qubits are required, which is a **huge gain** over methods like QAOA that need $O(n)$.\n",
    "\n",
    "### Quantum Circuit:\n",
    "- Apply Hadamard gates to initialize a uniform superposition.\n",
    "- Apply a diagonal gate $U(\\vec{\\theta})$ whose entries encode binary values using a thresholding function $f(\\theta_i)$.\n",
    "- Evaluate the cost function:\n",
    "$$\n",
    "C(\\vec{\\theta}) = \\langle \\psi(\\vec{\\theta}) | L_G | \\psi(\\vec{\\theta}) \\rangle\n",
    "$$\n",
    "where $L_G$ is the graph Laplacian.\n",
    "\n",
    "The result is optimized using a classical optimizer, and $\\theta_i$ are mapped to bits depending on whether $\\theta_i < \\pi$ or not.\n"
   ]
  },
  {
   "cell_type": "code",
   "execution_count": 7,
   "metadata": {},
   "outputs": [
    {
     "data": {
      "text/plain": [
       "4"
      ]
     },
     "execution_count": 7,
     "metadata": {},
     "output_type": "execute_result"
    }
   ],
   "source": [
    "n = G.number_of_nodes()\n",
    "n_qubits = int(np.ceil(np.log2(n)))\n",
    "n_qubits"
   ]
  },
  {
   "cell_type": "code",
   "execution_count": 8,
   "metadata": {},
   "outputs": [],
   "source": [
    "def R(theta): \n",
    "    if abs(theta) > 2*np.pi or abs(theta) < 0:\n",
    "        theta = abs(theta) - (np.floor(abs(theta)/(2*np.pi))*(2*np.pi))\n",
    "    return 0 if 0 <= theta < np.pi else 1\n",
    "\n",
    "# Define a PennyLane quantum device (using default.qubit simulator)\n",
    "dev = qml.device(\"default.qubit\", wires=n_qubits)"
   ]
  },
  {
   "cell_type": "code",
   "execution_count": 9,
   "metadata": {},
   "outputs": [],
   "source": [
    "# Quantum circuit as a QNode\n",
    "@qml.qnode(dev)\n",
    "def circuit(params, H):\n",
    "    # N = len(params)\n",
    "    N = int(np.log2(len(params)))\n",
    "    for i in range(N):\n",
    "        qml.Hadamard(wires=i)\n",
    "    \n",
    "    diagonal_elements = [np.exp(1j * np.pi * R(param)) for param in params]\n",
    "    # qml.DiagonalQubitUnitary(np.diag(diagonal_elements), wires=list(range(N)))\n",
    "    qml.DiagonalQubitUnitary(diagonal_elements, wires=list(range(N)))\n",
    "    \n",
    "    return qml.expval(qml.Hermitian(H, wires=list(range(N))))"
   ]
  },
  {
   "cell_type": "code",
   "execution_count": 10,
   "metadata": {},
   "outputs": [],
   "source": [
    "def cost_fn(params, H):\n",
    "    global optimization_iteration_count\n",
    "    optimization_iteration_count += 1\n",
    "    cost = circuit(params, H)\n",
    "    print(f'@ Iteration {optimization_iteration_count} Cost :', cost)\n",
    "    return cost"
   ]
  },
  {
   "cell_type": "code",
   "execution_count": 11,
   "metadata": {},
   "outputs": [],
   "source": [
    "def decode(optimal_params):\n",
    "    return [R(param) for param in optimal_params]\n",
    "\n",
    "def objective_value(x, w):\n",
    "    return np.dot(x, np.dot(w, x))"
   ]
  },
  {
   "cell_type": "code",
   "execution_count": 12,
   "metadata": {},
   "outputs": [],
   "source": [
    "def new_nisq_algo_solver(G, optimizer_method='Powell', initial_params_seed=123):\n",
    "    global optimization_iteration_count\n",
    "    optimization_iteration_count = 0\n",
    "    n = G.number_of_nodes()\n",
    "    w = nx.adjacency_matrix(G).todense()\n",
    "    D_G = np.diag(list(dict(G.degree()).values()))\n",
    "    A_G = w\n",
    "    L_G = D_G - A_G\n",
    "    n_padding = (2**int(np.ceil(np.log2(n)))-n)\n",
    "    L_G = np.pad(L_G, [(0, n_padding), (0, n_padding) ], mode='constant')\n",
    "    H = L_G\n",
    "    \n",
    "    np.random.seed(seed=initial_params_seed)\n",
    "    initial_params = np.random.uniform(low=0.5, high=2*np.pi , size=(n+n_padding))\n",
    "    \n",
    "    result = minimize(\n",
    "        fun=cost_fn,\n",
    "        x0=initial_params,\n",
    "        args=(H,),\n",
    "        method=optimizer_method,\n",
    "    )\n",
    "    \n",
    "    optimal_params, expectation_value = result.x, result.fun\n",
    "    x = np.real(decode(optimal_params))\n",
    "    x = x[:n]\n",
    "    cut_value = objective_value(x, w)\n",
    "    \n",
    "    return x, expectation_value, cut_value"
   ]
  },
  {
   "cell_type": "code",
   "execution_count": 13,
   "metadata": {},
   "outputs": [
    {
     "name": "stdout",
     "output_type": "stream",
     "text": [
      "@ Iteration 1 Cost : 2.7137499999999983\n",
      "@ Iteration 2 Cost : 2.7137499999999983\n",
      "@ Iteration 3 Cost : 2.7137499999999983\n",
      "@ Iteration 4 Cost : 2.7137499999999983\n",
      "@ Iteration 5 Cost : 2.7137499999999983\n",
      ".\n",
      ".\n",
      ".\n",
      "@ Iteration 349 Cost : 0.18374999999999986\n",
      "@ Iteration 350 Cost : 0.18374999999999986\n",
      "@ Iteration 351 Cost : 0.18374999999999986\n",
      "@ Iteration 352 Cost : 0.18374999999999986\n",
      "@ Iteration 353 Cost : 0.18374999999999986\n"
     ]
    },
    {
     "data": {
      "text/plain": [
       "(array([1, 1, 0, 1, 1, 0, 0, 1, 1, 0, 1, 1, 1, 0, 0, 1]),\n",
       " np.float64(0.18374999999999986),\n",
       " np.float64(15.94))"
      ]
     },
     "execution_count": 13,
     "metadata": {},
     "output_type": "execute_result"
    }
   ],
   "source": [
    "binary_solution, expectation_value, cut_value = new_nisq_algo_solver(G, optimizer_method = 'Powell')\n",
    "binary_solution, expectation_value, cut_value"
   ]
  },
  {
   "cell_type": "code",
   "execution_count": 14,
   "metadata": {},
   "outputs": [],
   "source": [
    "def decode_binary_string(x, height, width):\n",
    "  mask = np.zeros([height, width])\n",
    "  for index,segment in enumerate(x):\n",
    "    mask[index//width,index%width]=segment\n",
    "  return mask"
   ]
  },
  {
   "cell_type": "code",
   "execution_count": 15,
   "metadata": {},
   "outputs": [
    {
     "data": {
      "image/png": "[encoded data removed]",
      "text/plain": [
       "<Figure size 640x480 with 1 Axes>"
      ]
     },
     "metadata": {},
     "output_type": "display_data"
    }
   ],
   "source": [
    "mask = decode_binary_string(binary_solution, height, width)\n",
    "plt.imshow(mask, interpolation='nearest', cmap=plt.cm.gray, vmin=0, vmax=1)\n",
    "plt.xticks([])\n",
    "plt.yticks([])\n",
    "plt.show()"
   ]
  },
  {
   "cell_type": "markdown",
   "metadata": {},
   "source": [
    "## 🧪 Ancilla Basis Encoding (ABE)\n",
    "\n",
    "ABE uses $\\log_2(n) + 1$ qubits:  \n",
    "- $\\log_2(n)$ **register qubits** represent binary states.  \n",
    "- One **ancilla qubit** helps encode the binary decision.\n",
    "\n",
    "Each computational basis state of the register corresponds to one binary variable. The ancilla qubit’s amplitude is used to decide the bit value <sup>[5]</sup>:\n",
    "$$\n",
    "x_{v_i} = \\begin{cases} 0 & \\text{if } |a_i|^2 > |b_i|^2 \\\\ 1 & \\text{otherwise} \\end{cases}\n",
    "$$\n",
    "\n",
    "The cost function is parameterized over **expectation values** of basis state projectors:\n",
    "$$\n",
    "C(\\vec{\\theta}) = \\sum_{i,j} Q_{ij} \\frac{\\langle \\hat{P}_i^1 \\rangle \\langle \\hat{P}_j^1 \\rangle}{\\langle \\hat{P}_i \\rangle \\langle \\hat{P}_j \\rangle} (1 - \\delta_{ij}) + \\sum_i Q_{ii} \\frac{\\langle \\hat{P}_i^1 \\rangle}{\\langle \\hat{P}_i \\rangle}\n",
    "$$\n",
    "\n",
    "<figure>\n",
    "  <img src=\"_repo_data/ABE_ACE.png\" alt=\"Quantum Circuit of ABE/ACE\" width=\"1080\">\n",
    "  <figcaption>Example of a quantum circuit of ABE/ACE for solving QUBO of size 4 using 3 qubits (2 register + 1 ancilla), whereas in this demo we are solving a QUBO of size 16, so we are simulating 5 qubits. Basis state amplitudes are used to decode the binary solution (Fig. 3 in <sup>[1]</sup>).</figcaption>\n",
    "</figure>"
   ]
  },
  {
   "cell_type": "code",
   "execution_count": 24,
   "metadata": {},
   "outputs": [],
   "source": [
    "def get_qubo_matrix(W):\n",
    "    \"\"\"Computes the QUBO matrix for the Minimum Cut problem given a weight matrix W.\"\"\"\n",
    "    n = W.shape[0]  # Number of nodes\n",
    "    Q = np.zeros((n, n))  # Initialize QUBO matrix\n",
    "    \n",
    "    for i in range(n):\n",
    "        Q[i, i] = np.sum(W[i])  # Diagonal terms (degree of node)\n",
    "        for j in range(n):\n",
    "            if i != j:\n",
    "                Q[i, j] = -W[i, j]  # Off-diagonal terms (negative adjacency)\n",
    "    \n",
    "    return Q"
   ]
  },
  {
   "cell_type": "code",
   "execution_count": 25,
   "metadata": {},
   "outputs": [],
   "source": [
    "def get_circuit(nq, n_layers):\n",
    "    def circuit(params):\n",
    "        for i in range(nq):\n",
    "            qml.Hadamard(wires=i)\n",
    "        for layer_i in range(n_layers):\n",
    "            for qubit_i in range(nq - 1):\n",
    "                qml.CNOT(wires=[qubit_i, (qubit_i + 1) % nq])\n",
    "            for qubit_i in range(nq):\n",
    "                qml.RY(params[(nq * layer_i) + qubit_i], wires=qubit_i)\n",
    "        return qml.probs(wires=range(nq))\n",
    "    return circuit\n",
    "\n",
    "def get_projectors(probabilities, n_c):\n",
    "    P, P1 = [0] * n_c, [0] * n_c\n",
    "    for k, v in probabilities.items():\n",
    "        index = int(k[1:], 2)\n",
    "        P[index] += v\n",
    "        if k[0] == '1':\n",
    "            P1[index] += v\n",
    "    return P, P1\n",
    "\n",
    "def objective_value(x, w):\n",
    "    return sum(w[i, j] * x[i] * (1 - x[j]) for i in range(len(x)) for j in range(len(x)))\n",
    "\n",
    "def decode_probabilities(probabilities):\n",
    "    binary_solution, n_r = [], len(list(probabilities.keys())[0]) - 1\n",
    "    for i in range(2**n_r):\n",
    "        zero_state, one_state = '0' + format(i, 'b').zfill(n_r), '1' + format(i, 'b').zfill(n_r)\n",
    "        if zero_state in probabilities and one_state in probabilities:\n",
    "            binary_solution.append(0 if probabilities[zero_state] > probabilities[one_state] else 1)\n",
    "        elif zero_state in probabilities:\n",
    "            binary_solution.append(0)\n",
    "        elif one_state in probabilities:\n",
    "            binary_solution.append(1)\n",
    "    return binary_solution"
   ]
  },
  {
   "cell_type": "code",
   "execution_count": 26,
   "metadata": {},
   "outputs": [],
   "source": [
    "def evaluate_cost(params, circuit, qubo_matrix):\n",
    "    global valid_probabilities, optimization_iteration_count, best_cost, best_params\n",
    "    optimization_iteration_count += 1\n",
    "    raw_probs = circuit(params)  # NumPy array\n",
    "\n",
    "    # Convert probability array to dictionary with bitstrings\n",
    "    num_qubits = int(np.log2(len(raw_probs)))\n",
    "    bitstrings = [format(i, f'0{num_qubits}b') for i in range(len(raw_probs))]\n",
    "    probabilities = {bitstrings[i]: raw_probs[i] for i in range(len(raw_probs))}\n",
    "    \n",
    "    n_c = 2**(len(bitstrings[0])-1)\n",
    "    P, P1 = get_projectors(probabilities, n_c)\n",
    "    if 0 in P:\n",
    "        return float(\"inf\")\n",
    "\n",
    "    valid_probabilities = probabilities.copy()\n",
    "    cost = sum(qubo_matrix[i][j] * P1[i] / P[i] if i == j else (qubo_matrix[i][j] * P1[i] * P1[j]) / (P[i] * P[j])\n",
    "               for i in range(len(qubo_matrix)) for j in range(len(qubo_matrix)))\n",
    "    \n",
    "    # Track the best cost and parameters manually\n",
    "    if cost < best_cost:\n",
    "        best_cost = cost\n",
    "        best_params = params.copy()  # Store the best parameter set\n",
    "    \n",
    "    print(f'@ Iteration {optimization_iteration_count} Cost :', cost)\n",
    "    return cost"
   ]
  },
  {
   "cell_type": "code",
   "execution_count": 27,
   "metadata": {},
   "outputs": [],
   "source": [
    "def ancilla_basis_encoding(G, initial_params, n_layers=1, optimizer_method='differential_evolution'):\n",
    "    w = nx.adjacency_matrix(G).todense()\n",
    "    Q = get_qubo_matrix(W = w)\n",
    "    nc, nq = len(G.nodes()), ceil(log2(len(G.nodes()))) + 1\n",
    "    dev = qml.device(\"default.qubit\", wires=nq, shots=None)\n",
    "    qnode = qml.QNode(get_circuit(nq, n_layers), dev)\n",
    "    global valid_probabilities, optimization_iteration_count, best_cost, best_params  # Track the best parameters\n",
    "    valid_probabilities, optimization_iteration_count = [], 0\n",
    "    best_cost = float(\"inf\")  # Initialize best cost\n",
    "    best_params = None  # Initialize best parameters\n",
    "    if optimizer_method == \"differential_evolution\":\n",
    "        optimization_result = differential_evolution(\n",
    "            func=evaluate_cost,\n",
    "            bounds=[(-np.pi, np.pi)] * len(initial_params),\n",
    "            args=(qnode, Q),\n",
    "            strategy='best1bin',\n",
    "            maxiter=100,\n",
    "            popsize=15\n",
    "        )\n",
    "    else:\n",
    "        optimization_result = minimize(fun=evaluate_cost, x0=initial_params, args=(qnode, Q), method=optimizer_method,\n",
    "                                       bounds=[(-np.pi, np.pi)] * len(initial_params))\n",
    "    if not valid_probabilities:\n",
    "        return False, [0] * nc, 0, 0, [0] * len(initial_params)\n",
    "    best_raw_probs = qnode(best_params)\n",
    "    bitstrings = [format(i, f'0{nq}b') for i in range(len(best_raw_probs))]\n",
    "    best_probabilities = {bitstrings[i]: best_raw_probs[i] for i in range(len(best_raw_probs))}\n",
    "    binary_solution = decode_probabilities(best_probabilities)[:nc]\n",
    "    print(\"binary_solution\",binary_solution)\n",
    "    return binary_solution, best_cost, objective_value(np.array(binary_solution), w), best_params"
   ]
  },
  {
   "cell_type": "markdown",
   "metadata": {},
   "source": [
    "Although the code can handle various methods available in `scipy.minimize`, in this demo we will be using a more robust genetic algorithm `differential_evolution` as the classical optimizer."
   ]
  },
  {
   "cell_type": "code",
   "execution_count": 28,
   "metadata": {},
   "outputs": [
    {
     "name": "stdout",
     "output_type": "stream",
     "text": [
      "Executing QC with 5 layers and differential_evolution optimizer.\n",
      "@ Iteration 1 Cost : 1.9517729104828314\n",
      "@ Iteration 2 Cost : 2.695380482787284\n",
      "@ Iteration 3 Cost : 1.2997220934905251\n",
      "@ Iteration 4 Cost : 3.285955280870637\n",
      "@ Iteration 5 Cost : 1.6088763974114462\n",
      ".\n",
      ".\n",
      ".\n",
      "@ Iteration 41615 Cost : -9.580055050943331\n",
      "@ Iteration 41616 Cost : -9.580055063692425\n",
      "@ Iteration 41617 Cost : -9.58005504857137\n",
      "@ Iteration 41618 Cost : -9.58005504350123\n",
      "@ Iteration 41619 Cost : -9.580055055239168\n",
      "binary_solution [0, 0, 1, 0, 0, 1, 1, 0, 0, 1, 0, 0, 0, 1, 1, 0]\n",
      "[0, 0, 1, 0, 0, 1, 1, 0, 0, 1, 0, 0, 0, 1, 1, 0] -9.580055070588434 -9.59 [-1.87128251 -1.26640308 -0.02336564 -3.10694607  0.01860386 -1.88002789\n",
      "  0.51920146  3.11901893 -2.08946347  0.8140825  -1.68061883 -0.06049532\n",
      "  1.8261264  -1.56490516 -0.5037992  -2.01992427 -0.42991677  1.15472694\n",
      "  1.51827448  0.85008668  0.26731643  1.7789839   3.13530596  2.50698098\n",
      "  1.62851782]\n"
     ]
    },
    {
     "data": {
      "image/png": "[encoded data removed]",
      "text/plain": [
       "<Figure size 640x480 with 1 Axes>"
      ]
     },
     "metadata": {},
     "output_type": "display_data"
    }
   ],
   "source": [
    "initial_params_seed, scipy_optimizer_method, n_layers = 1234, \"differential_evolution\", 5\n",
    "nq = ceil(log2(len(G.nodes()))) + 1\n",
    "np.random.seed(initial_params_seed)\n",
    "initial_params = np.random.uniform(low=-np.pi, high=np.pi, size=nq * n_layers)\n",
    "print(f\"Executing QC with {n_layers} layers and {scipy_optimizer_method} optimizer.\")\n",
    "start_time = time.time()\n",
    "solution, value, cut_value, optimal_params = ancilla_basis_encoding(G, initial_params, n_layers, scipy_optimizer_method)\n",
    "end_time = time.time()\n",
    "print(solution, value, cut_value, optimal_params)\n",
    "\n",
    "mask = decode_binary_string(solution, height, width)\n",
    "plt.imshow(mask, interpolation='nearest', cmap=plt.cm.gray, vmin=0, vmax=1)\n",
    "plt.xticks([])\n",
    "plt.yticks([])\n",
    "plt.show()"
   ]
  },
  {
   "cell_type": "markdown",
   "metadata": {},
   "source": [
    "## 🔁 Adaptive Cost Encoding (ACE)\n",
    "\n",
    "ACE modifies ABE by skipping the QUBO formulation entirely during evaluation.\n",
    "\n",
    "Instead of optimizing over probabilities, we decode a binary vector $x$ from the measured output and evaluate the **original min-cut cost function** directly <sup>[1]</sup>:\n",
    "$$\n",
    "C(x) = \\sum_{i < j} x_i (1 - x_j) w(v_i, v_j)\n",
    "$$\n",
    "\n",
    "This:\n",
    "- Removes the need for a QUBO matrix, which can have loss of generality for constrained optimization problems when the penalty coefficient is not set appropriately.\n",
    "- Improves convergence (the cost function is discrete and combinatorial).\n",
    "- Aligns optimization directly with the true task objective."
   ]
  },
  {
   "cell_type": "code",
   "execution_count": 29,
   "metadata": {},
   "outputs": [],
   "source": [
    "def evaluate_cost_mincut(params, circuit, w):\n",
    "    global valid_probabilities, optimization_iteration_count, best_cost, best_params\n",
    "    optimization_iteration_count += 1\n",
    "    raw_probs = circuit(params)  # NumPy array\n",
    "    \n",
    "    # Convert probability array to dictionary with bitstrings\n",
    "    num_qubits = int(np.log2(len(raw_probs)))\n",
    "    bitstrings = [format(i, f'0{num_qubits}b') for i in range(len(raw_probs))]\n",
    "    probabilities = {bitstrings[i]: raw_probs[i] for i in range(len(raw_probs))}\n",
    "    \n",
    "    n_c = 2**(len(bitstrings[0])-1)\n",
    "    P, P1 = get_projectors(probabilities, n_c)\n",
    "    if 0 in P:\n",
    "        return float(\"inf\")\n",
    "    valid_probabilities = probabilities.copy()\n",
    "    binary_solution = decode_probabilities(valid_probabilities)[:len(w)]\n",
    "    cost = objective_value(np.array(binary_solution), w)\n",
    "\n",
    "    # Track the best cost and parameters manually\n",
    "    if cost < best_cost:\n",
    "        best_cost = cost\n",
    "        best_params = params.copy()  # Store the best parameter set\n",
    "    \n",
    "    print(f'@ Iteration {optimization_iteration_count} Cost :', cost)\n",
    "    return cost"
   ]
  },
  {
   "cell_type": "code",
   "execution_count": 30,
   "metadata": {},
   "outputs": [],
   "source": [
    "def adaptive_cost_encoding_de(G, initial_params, n_layers=1, optimizer_method='differential_evolution'):\n",
    "    w = nx.adjacency_matrix(G).todense()\n",
    "    nc, nq = len(G.nodes()), ceil(log2(len(G.nodes()))) + 1\n",
    "    dev = qml.device(\"default.qubit\", wires=nq, shots=None)\n",
    "    qnode = qml.QNode(get_circuit(nq, n_layers), dev)\n",
    "    global valid_probabilities, optimization_iteration_count, best_cost, best_params  # Track the best parameters\n",
    "    valid_probabilities, optimization_iteration_count = [], 0\n",
    "    best_cost = float(\"inf\")  # Initialize best cost\n",
    "    best_params = None  # Initialize best parameters\n",
    "\n",
    "    if optimizer_method == \"differential_evolution\":\n",
    "        optimization_result = differential_evolution(\n",
    "            func=evaluate_cost_mincut,\n",
    "            bounds=[(-np.pi, np.pi)] * len(initial_params),\n",
    "            args=(qnode, w),\n",
    "            strategy='best1bin',\n",
    "            maxiter=100,\n",
    "            popsize=15\n",
    "        )\n",
    "    else:\n",
    "        optimization_result = minimize(fun=evaluate_cost_mincut, x0=initial_params, args=(qnode, w), method=optimizer_method,\n",
    "                                       bounds=[(-np.pi, np.pi)] * len(initial_params))\n",
    "    \n",
    "    if not valid_probabilities:\n",
    "        return False, [0] * nc, 0, 0, [0] * len(initial_params)\n",
    "    \n",
    "    best_raw_probs = qnode(best_params)\n",
    "    bitstrings = [format(i, f'0{nq}b') for i in range(len(best_raw_probs))]\n",
    "    best_probabilities = {bitstrings[i]: best_raw_probs[i] for i in range(len(best_raw_probs))}\n",
    "    binary_solution = decode_probabilities(best_probabilities)[:nc]\n",
    "    print(\"binary_solution\",binary_solution)\n",
    "    return binary_solution, best_cost, objective_value(np.array(binary_solution), w), best_params"
   ]
  },
  {
   "cell_type": "code",
   "execution_count": 31,
   "metadata": {},
   "outputs": [
    {
     "name": "stdout",
     "output_type": "stream",
     "text": [
      "Executing QC with 5 layers and Differential Evolution optimizer.\n",
      "@ Iteration 1 Cost : 2.16\n",
      "@ Iteration 2 Cost : 3.33\n",
      "@ Iteration 3 Cost : 3.1799999999999997\n",
      "@ Iteration 4 Cost : 3.6700000000000004\n",
      "@ Iteration 5 Cost : 3.6199999999999997\n",
      ".\n",
      ".\n",
      ".\n",
      "@ Iteration 37897 Cost : -9.59\n",
      "@ Iteration 37898 Cost : -9.59\n",
      "@ Iteration 37899 Cost : -9.59\n",
      "@ Iteration 37900 Cost : -9.59\n",
      "@ Iteration 37901 Cost : -9.59\n",
      "binary_solution [1, 1, 0, 1, 1, 0, 0, 1, 1, 0, 1, 1, 1, 0, 0, 1]\n",
      "[1, 1, 0, 1, 1, 0, 0, 1, 1, 0, 1, 1, 1, 0, 0, 1] -9.59 -9.59 [ 1.5925252  -0.99312378 -0.3011605  -0.64446057 -0.11583278  0.92450533\n",
      "  1.92449243  0.57549626  0.32784236  1.36375091  0.64730511  0.85830076\n",
      " -2.96974057  1.52604576 -0.36825457  1.44591007  2.30640898 -2.26932841\n",
      "  0.11814597  0.55094776  0.13729049 -2.39043552 -1.73403799 -1.58710222\n",
      "  2.56579511]\n"
     ]
    },
    {
     "data": {
      "image/png": "[encoded data removed]",
      "text/plain": [
       "<Figure size 640x480 with 1 Axes>"
      ]
     },
     "metadata": {},
     "output_type": "display_data"
    }
   ],
   "source": [
    "initial_params_seed, scipy_optimizer_method, n_layers = 1234, \"differential_evolution\", 5\n",
    "nq = ceil(log2(len(G.nodes()))) + 1\n",
    "np.random.seed(initial_params_seed)\n",
    "initial_params = np.random.uniform(low=-np.pi, high=np.pi, size=nq * n_layers)\n",
    "print(f\"Executing QC with {n_layers} layers and Differential Evolution optimizer.\")\n",
    "start_time = time.time()\n",
    "solution, value, cut_value, optimal_params = adaptive_cost_encoding_de(G, initial_params, n_layers, optimizer_method=scipy_optimizer_method)\n",
    "end_time = time.time()\n",
    "print(solution, value, cut_value, optimal_params)\n",
    "\n",
    "mask = decode_binary_string(solution, height, width)\n",
    "plt.imshow(mask, interpolation='nearest', cmap=plt.cm.gray, vmin=0, vmax=1)\n",
    "plt.xticks([])\n",
    "plt.yticks([])\n",
    "plt.show()"
   ]
  },
  {
   "cell_type": "markdown",
   "metadata": {},
   "source": [
    "## 📈 Evaluation & Observations\n",
    "\n",
    "- PGE has a compact circuit but many parameters.\n",
    "- ABE introduces a more efficient encoding at the cost of probabilistic decoding.\n",
    "- ACE improves convergence by using the real problem cost and avoiding indirect probability-based objectives.\n",
    "\n",
    "Theoretical scaling advantages:\n",
    "- Qubit requirement is $O(\\log n)$.\n",
    "- Parametric gates and depth grow modestly with problem size.\n",
    "\n",
    "\n",
    "Here's the complexity comparison of QAOA, PGE, and ABE/ACE in terms of quantum resources for solving QUBO problems.\n",
    "\n",
    "<table>\n",
    "  <thead>\n",
    "    <tr>\n",
    "      <th>Method</th>\n",
    "      <th>Qubit Complexity</th>\n",
    "      <th>Entanglement Gates</th>\n",
    "      <th>Parametric Gates</th>\n",
    "      <th>Circuit Depth</th>\n",
    "    </tr>\n",
    "  </thead>\n",
    "  <tbody>\n",
    "    <tr>\n",
    "      <td><strong>QAOA</strong></td>\n",
    "      <td>O(n)</td>\n",
    "      <td>O(n²)</td>\n",
    "      <td>O(L·n)</td>\n",
    "      <td>O(L·n²)</td>\n",
    "    </tr>\n",
    "    <tr>\n",
    "      <td><strong>PGE</strong></td>\n",
    "      <td>log₂(n)</td>\n",
    "      <td>n − 1</td>\n",
    "      <td>n</td>\n",
    "      <td>n</td>\n",
    "    </tr>\n",
    "    <tr>\n",
    "      <td><strong>ABE / ACE</strong></td>\n",
    "      <td>log₂(n) + 1</td>\n",
    "      <td>L·log₂(n)</td>\n",
    "      <td>L·(log₂(n) + 1)</td>\n",
    "      <td>L·(log₂(n) + 1)</td>\n",
    "    </tr>\n",
    "  </tbody>\n",
    "</table>\n",
    "(L is the ansatz depth, n is the number of QUBO variables.)"
   ]
  },
  {
   "cell_type": "markdown",
   "metadata": {},
   "source": [
    "## 📎 Final notes\n",
    "\n",
    "\n",
    "This demo showcases scalable, qubit-efficient strategies for quantum-enhanced image segmentation.\n",
    "\n",
    "By formulating image segmentation as a graph cut, reducing it to a QUBO, and then solving with advanced encodings like PGE, ABE, and ACE, we show that near-term quantum devices can tackle meaningful vision tasks."
   ]
  },
  {
   "cell_type": "markdown",
   "metadata": {},
   "source": [
    "---\n",
    "\n",
    "## 📄 References\n",
    "\n",
    "[1] S. M. Venkatesh, A. Macaluso, M. Nuske, M. Klusch, and A. Dengel, \"Qubit-Efficient Variational Quantum Algorithms for Image Segmentation,\" 2024 IEEE International Conference on Quantum Computing and Engineering (QCE), Montreal, QC, Canada, 2024, pp. 450–456. DOI: [10.1109/QCE60285.2024.00059](https://doi.org/10.1109/QCE60285.2024.00059), [arXiv:2405.14405](https://arxiv.org/abs/2405.14405)\n",
    "\n",
    "[2] S. M. Venkatesh, A. Macaluso, M. Nuske, M. Klusch and A. Dengel, \"Q-Seg: Quantum Annealing-Based Unsupervised Image Segmentation,\" in IEEE Computer Graphics and Applications, vol. 44, no. 5, pp. 27-39, Sept.-Oct. 2024, doi: [10.1109/MCG.2024.3455012](https://doi.org/10.1109/MCG.2024.3455012), [arXiv:2311.12912](https://arxiv.org/abs/2311.12912).\n",
    "\n",
    "[3] Farhi, E., Goldstone, J., & Gutmann, S. (2014). A quantum approximate optimization algorithm. arXiv preprint [arXiv:1411.4028](https://arxiv.org/abs/1411.4028).\n",
    "\n",
    "[4] Rančić, M. J. (2023). Noisy intermediate-scale quantum computing algorithm for solving an n-vertex MaxCut problem with log (n) qubits. Physical Review Research, 5(1), L012021. DOI: [10.1103/PhysRevResearch.5.L012021](https://doi.org/10.1103/PhysRevResearch.5.L012021)\n",
    "\n",
    "[5] Tan, B., Lemonde, M. A., Thanasilp, S., Tangpanitanon, J., & Angelakis, D. G. (2021). Qubit-efficient encoding schemes for binary optimisation problems. Quantum, 5, 454. DOI: [10.22331/q-2021-05-04-454](https://doi.org/10.22331/q-2021-05-04-454)"
   ]
  }
 ],
 "metadata": {
  "kernelspec": {
   "display_name": "venv",
   "language": "python",
   "name": "python3"
  },
  "language_info": {
   "codemirror_mode": {
    "name": "ipython",
    "version": 3
   },
   "file_extension": ".py",
   "mimetype": "text/x-python",
   "name": "python",
   "nbconvert_exporter": "python",
   "pygments_lexer": "ipython3",
   "version": "3.12.2"
  }
 },
 "nbformat": 4,
 "nbformat_minor": 2
}
